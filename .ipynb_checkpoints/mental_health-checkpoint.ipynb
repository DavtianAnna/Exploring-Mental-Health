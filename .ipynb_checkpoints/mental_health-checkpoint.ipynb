{
 "cells": [
  {
   "cell_type": "code",
   "execution_count": 1,
   "id": "31d1a7a3-029c-40af-9d31-48ca34e1b683",
   "metadata": {},
   "outputs": [],
   "source": [
    "import numpy as np\n",
    "import pandas as pd\n",
    "import seaborn as sns\n",
    "import matplotlib.pyplot as plt\n",
    "import warnings \n",
    "warnings.filterwarnings('ignore')"
   ]
  },
  {
   "cell_type": "code",
   "execution_count": 2,
   "id": "f9b3fab8-479b-4d4c-a330-0c9bf4e48aa1",
   "metadata": {},
   "outputs": [],
   "source": [
    "df_train = pd.read_csv('train.csv')\n",
    "df_test = pd.read_csv('test.csv')"
   ]
  },
  {
   "cell_type": "code",
   "execution_count": 3,
   "id": "b6725d6b-0a7f-4de0-a370-ba60ca8a3b19",
   "metadata": {},
   "outputs": [
    {
     "name": "stdout",
     "output_type": "stream",
     "text": [
      "<class 'pandas.core.frame.DataFrame'>\n",
      "RangeIndex: 140700 entries, 0 to 140699\n",
      "Data columns (total 20 columns):\n",
      " #   Column                                 Non-Null Count   Dtype  \n",
      "---  ------                                 --------------   -----  \n",
      " 0   id                                     140700 non-null  int64  \n",
      " 1   Name                                   140700 non-null  object \n",
      " 2   Gender                                 140700 non-null  object \n",
      " 3   Age                                    140700 non-null  float64\n",
      " 4   City                                   140700 non-null  object \n",
      " 5   Working Professional or Student        140700 non-null  object \n",
      " 6   Profession                             104070 non-null  object \n",
      " 7   Academic Pressure                      27897 non-null   float64\n",
      " 8   Work Pressure                          112782 non-null  float64\n",
      " 9   CGPA                                   27898 non-null   float64\n",
      " 10  Study Satisfaction                     27897 non-null   float64\n",
      " 11  Job Satisfaction                       112790 non-null  float64\n",
      " 12  Sleep Duration                         140700 non-null  object \n",
      " 13  Dietary Habits                         140696 non-null  object \n",
      " 14  Degree                                 140698 non-null  object \n",
      " 15  Have you ever had suicidal thoughts ?  140700 non-null  object \n",
      " 16  Work/Study Hours                       140700 non-null  float64\n",
      " 17  Financial Stress                       140696 non-null  float64\n",
      " 18  Family History of Mental Illness       140700 non-null  object \n",
      " 19  Depression                             140700 non-null  int64  \n",
      "dtypes: float64(8), int64(2), object(10)\n",
      "memory usage: 21.5+ MB\n"
     ]
    }
   ],
   "source": [
    "df_train.info()"
   ]
  },
  {
   "cell_type": "code",
   "execution_count": 4,
   "id": "ec0a3da4-4297-44c5-b40e-5d04364e572a",
   "metadata": {},
   "outputs": [],
   "source": [
    "df_train.drop('Name', axis = 1, inplace = True)\n",
    "df_test.drop('Name', axis = 1, inplace = True)"
   ]
  },
  {
   "cell_type": "code",
   "execution_count": 5,
   "id": "660e565b-2f7a-4f31-a524-7c498bf36da7",
   "metadata": {},
   "outputs": [],
   "source": [
    "df_train.drop('City', axis = 1, inplace = True)\n",
    "df_test.drop('City', axis = 1, inplace = True)"
   ]
  },
  {
   "cell_type": "code",
   "execution_count": 6,
   "id": "bf95532c-d5e0-4422-bb31-cfdd5ce33647",
   "metadata": {},
   "outputs": [],
   "source": [
    "elements = df_train['Profession'].dropna().unique()\n",
    "proba = [df_train['Profession'].value_counts()[i]/len(df_train['Profession'].dropna()) for i in elements]\n",
    "df_train['Profession'].fillna(np.random.choice(a=elements, p = proba), inplace = True)\n",
    "\n",
    "elements = df_test['Profession'].dropna().unique()\n",
    "proba = [df_test['Profession'].value_counts()[i]/len(df_test['Profession'].dropna()) for i in elements]\n",
    "df_test['Profession'].fillna(np.random.choice(a=elements, p = proba), inplace = True)"
   ]
  },
  {
   "cell_type": "code",
   "execution_count": 12,
   "id": "fef3535b-beaa-414e-bd6a-6871696a9e03",
   "metadata": {},
   "outputs": [],
   "source": [
    "df_train['Dietary Habits'] = df_train['Dietary Habits'].fillna(np.random.choice(a = ['Moderate','Unhealthy','Healthy'], p = [0.35,0.35,0.3]))\n",
    "df_test['Dietary Habits'] = df_test['Dietary Habits'].fillna(np.random.choice(a = ['Moderate','Unhealthy','Healthy'], p = [0.35,0.35,0.3]))"
   ]
  },
  {
   "cell_type": "code",
   "execution_count": null,
   "id": "2c79f223-061c-4fde-885a-fa01d6840e3b",
   "metadata": {},
   "outputs": [],
   "source": []
  },
  {
   "cell_type": "code",
   "execution_count": null,
   "id": "ff853de0-90e7-4f16-bb55-1e3918e90993",
   "metadata": {},
   "outputs": [],
   "source": []
  },
  {
   "cell_type": "code",
   "execution_count": null,
   "id": "cd767a3e-3d67-4217-9db9-582338f904c5",
   "metadata": {},
   "outputs": [],
   "source": []
  },
  {
   "cell_type": "code",
   "execution_count": null,
   "id": "5d0aeb5c-fbf1-4da3-84f0-e0f27dfe91f0",
   "metadata": {},
   "outputs": [],
   "source": []
  },
  {
   "cell_type": "code",
   "execution_count": 13,
   "id": "bd8a5f0c-d27b-4d5e-9ed3-adfdce2a72fb",
   "metadata": {},
   "outputs": [],
   "source": [
    "df_train['Degree'] = df_train['Degree'].fillna(np.random.choice(a = ['Class 12','B.Ed','B.Arch'], p = [0.35,0.35,0.3]))\n",
    "df_test['Degree'] = df_test['Degree'].fillna(np.random.choice(a = ['Class 12','B.Ed','B.Arch'], p = [0.35,0.35,0.3]))"
   ]
  },
  {
   "cell_type": "code",
   "execution_count": null,
   "id": "73ff0558-3f28-4797-b871-6dd6b595ccc6",
   "metadata": {},
   "outputs": [],
   "source": [
    "lst = ['Academic Pressure', 'Work Pressure', 'CGPA', 'Study Satisfaction', 'Job Satisfaction', 'Financial Stress']\n",
    "for col in lst:\n",
    "    df_train[col].fillna(df_train[col].median(), inplace=True)\n",
    "    df_test[col].fillna(df_test[col].median(), inplace=True)"
   ]
  },
  {
   "cell_type": "code",
   "execution_count": null,
   "id": "402726a8-b2da-44dc-bb29-c2fd148fdcf6",
   "metadata": {},
   "outputs": [],
   "source": [
    "def fill_categorical_probabilistically(df, col):\n",
    "    elements = df[col].dropna().unique()\n",
    "    proba = df[col].value_counts(normalize=True).reindex(elements).fillna(0).values\n",
    "    df[col].fillna(np.random.choice(elements, p=proba), inplace=True)\n",
    "\n",
    "for col in ['Profession']:\n",
    "    fill_categorical_probabilistically(df_train, col)\n",
    "    fill_categorical_probabilistically(df_test, col) "
   ]
  },
  {
   "cell_type": "code",
   "execution_count": 15,
   "id": "2e3698f9-faac-4294-a443-039f8ca7221f",
   "metadata": {},
   "outputs": [
    {
     "data": {
      "text/plain": [
       "id                                       0\n",
       "Gender                                   0\n",
       "Age                                      0\n",
       "Working Professional or Student          0\n",
       "Profession                               0\n",
       "Academic Pressure                        0\n",
       "Work Pressure                            0\n",
       "CGPA                                     0\n",
       "Study Satisfaction                       0\n",
       "Job Satisfaction                         0\n",
       "Sleep Duration                           0\n",
       "Dietary Habits                           0\n",
       "Degree                                   0\n",
       "Have you ever had suicidal thoughts ?    0\n",
       "Work/Study Hours                         0\n",
       "Financial Stress                         0\n",
       "Family History of Mental Illness         0\n",
       "Depression                               0\n",
       "dtype: int64"
      ]
     },
     "execution_count": 15,
     "metadata": {},
     "output_type": "execute_result"
    }
   ],
   "source": [
    "df_train.isnull().sum()"
   ]
  },
  {
   "cell_type": "code",
   "execution_count": 16,
   "id": "2877dfea-6248-4c4c-a1a1-500381f69628",
   "metadata": {},
   "outputs": [
    {
     "name": "stdout",
     "output_type": "stream",
     "text": [
      "Depression\n",
      "0    115133\n",
      "1     25567\n",
      "Name: count, dtype: int64\n"
     ]
    }
   ],
   "source": [
    "print(df_train['Depression'].value_counts())"
   ]
  },
  {
   "cell_type": "code",
   "execution_count": 17,
   "id": "a0995222-55b5-4cc6-96ea-d84442f63016",
   "metadata": {},
   "outputs": [],
   "source": [
    "from sklearn.preprocessing import LabelEncoder"
   ]
  },
  {
   "cell_type": "code",
   "execution_count": 18,
   "id": "f90a14fa-ac49-44fa-9c9c-de20a8d04851",
   "metadata": {},
   "outputs": [
    {
     "name": "stdout",
     "output_type": "stream",
     "text": [
      "Profession\n",
      "Sleep Duration\n",
      "Dietary Habits\n",
      "Degree\n"
     ]
    }
   ],
   "source": [
    "for i in df_test.columns:\n",
    "    if df_train[i].dtype == object:\n",
    "        if len(set(df_test[i]).difference(set(df_train[i]))) > 0:\n",
    "            print(i)"
   ]
  },
  {
   "cell_type": "code",
   "execution_count": 19,
   "id": "78b4436a-8b76-4075-bbb3-ec4e0a31ea54",
   "metadata": {},
   "outputs": [
    {
     "data": {
      "text/plain": [
       "{'0',\n",
       " '20-21 hours',\n",
       " '50-75 hours',\n",
       " '6 hours',\n",
       " '60-65 hours',\n",
       " '8-89 hours',\n",
       " '9-10 hours',\n",
       " 'Have_you_ever_had_suicidal_thoughts',\n",
       " 'Meerut',\n",
       " 'Vivan'}"
      ]
     },
     "execution_count": 19,
     "metadata": {},
     "output_type": "execute_result"
    }
   ],
   "source": [
    "set(df_test['Sleep Duration']).difference(set(df_train['Sleep Duration']))"
   ]
  },
  {
   "cell_type": "code",
   "execution_count": 20,
   "id": "4ceeedbd-895a-4ef6-b8ce-c8985fc3091c",
   "metadata": {},
   "outputs": [],
   "source": [
    "values = set(df_train['Dietary Habits'].dropna().unique())\n",
    "df_test['Dietary Habits'] = df_test['Dietary Habits'].where(df_test['Dietary Habits'].isin(values), np.nan)\n",
    "most_common = df_train['Dietary Habits'].mode()[0]\n",
    "df_test['Dietary Habits'].fillna(most_common, inplace=True)"
   ]
  },
  {
   "cell_type": "code",
   "execution_count": 21,
   "id": "7259d733-bb22-4a5f-8bce-5563447e8f99",
   "metadata": {},
   "outputs": [
    {
     "data": {
      "text/plain": [
       "set()"
      ]
     },
     "execution_count": 21,
     "metadata": {},
     "output_type": "execute_result"
    }
   ],
   "source": [
    "set(df_test['Dietary Habits']).difference(set(df_train['Dietary Habits']))"
   ]
  },
  {
   "cell_type": "code",
   "execution_count": 22,
   "id": "ced1ba86-268b-4f45-bc15-3cb7e072253d",
   "metadata": {},
   "outputs": [],
   "source": [
    "values = set(df_train['Degree'].dropna().unique())\n",
    "df_test['Degree'] = df_test['Degree'].where(df_test['Degree'].isin(values), np.nan)\n",
    "most_common = df_train['Degree'].mode()[0]\n",
    "df_test['Degree'].fillna(most_common, inplace=True)"
   ]
  },
  {
   "cell_type": "code",
   "execution_count": 23,
   "id": "44e0c4e9-10e9-49fe-81e7-34234665cd4c",
   "metadata": {},
   "outputs": [
    {
     "data": {
      "text/plain": [
       "set()"
      ]
     },
     "execution_count": 23,
     "metadata": {},
     "output_type": "execute_result"
    }
   ],
   "source": [
    "set(df_test['Degree']).difference(set(df_train['Degree']))\n"
   ]
  },
  {
   "cell_type": "code",
   "execution_count": 24,
   "id": "c6fc8982-96d3-4fa3-9d9a-56bbf484be2f",
   "metadata": {},
   "outputs": [],
   "source": [
    "values = set(df_train['Sleep Duration'].dropna().unique())\n",
    "df_test['Sleep Duration'] = df_test['Sleep Duration'].where(df_test['Sleep Duration'].isin(values), np.nan)\n",
    "most_common = df_train['Sleep Duration'].mode()[0]\n",
    "df_test['Sleep Duration'].fillna(most_common, inplace=True)"
   ]
  },
  {
   "cell_type": "code",
   "execution_count": 25,
   "id": "d57c7266-88b9-4e0e-99ed-72a49a496391",
   "metadata": {},
   "outputs": [
    {
     "data": {
      "text/plain": [
       "set()"
      ]
     },
     "execution_count": 25,
     "metadata": {},
     "output_type": "execute_result"
    }
   ],
   "source": [
    "set(df_test['Sleep Duration']).difference(set(df_train['Sleep Duration']))\n"
   ]
  },
  {
   "cell_type": "code",
   "execution_count": 26,
   "id": "d5da75bb-8ebc-4b8a-9a98-357cf5743919",
   "metadata": {
    "scrolled": true
   },
   "outputs": [
    {
     "ename": "ValueError",
     "evalue": "y contains previously unseen labels: 'Unhealthy'",
     "output_type": "error",
     "traceback": [
      "\u001b[31m---------------------------------------------------------------------------\u001b[39m",
      "\u001b[31mKeyError\u001b[39m                                  Traceback (most recent call last)",
      "\u001b[36mFile \u001b[39m\u001b[32m~/AI/venv/lib/python3.12/site-packages/sklearn/utils/_encode.py:235\u001b[39m, in \u001b[36m_encode\u001b[39m\u001b[34m(values, uniques, check_unknown)\u001b[39m\n\u001b[32m    234\u001b[39m \u001b[38;5;28;01mtry\u001b[39;00m:\n\u001b[32m--> \u001b[39m\u001b[32m235\u001b[39m     \u001b[38;5;28;01mreturn\u001b[39;00m \u001b[43m_map_to_integer\u001b[49m\u001b[43m(\u001b[49m\u001b[43mvalues\u001b[49m\u001b[43m,\u001b[49m\u001b[43m \u001b[49m\u001b[43muniques\u001b[49m\u001b[43m)\u001b[49m\n\u001b[32m    236\u001b[39m \u001b[38;5;28;01mexcept\u001b[39;00m \u001b[38;5;167;01mKeyError\u001b[39;00m \u001b[38;5;28;01mas\u001b[39;00m e:\n",
      "\u001b[36mFile \u001b[39m\u001b[32m~/AI/venv/lib/python3.12/site-packages/sklearn/utils/_encode.py:174\u001b[39m, in \u001b[36m_map_to_integer\u001b[39m\u001b[34m(values, uniques)\u001b[39m\n\u001b[32m    173\u001b[39m table = _nandict({val: i \u001b[38;5;28;01mfor\u001b[39;00m i, val \u001b[38;5;129;01min\u001b[39;00m \u001b[38;5;28menumerate\u001b[39m(uniques)})\n\u001b[32m--> \u001b[39m\u001b[32m174\u001b[39m \u001b[38;5;28;01mreturn\u001b[39;00m xp.asarray([\u001b[43mtable\u001b[49m\u001b[43m[\u001b[49m\u001b[43mv\u001b[49m\u001b[43m]\u001b[49m \u001b[38;5;28;01mfor\u001b[39;00m v \u001b[38;5;129;01min\u001b[39;00m values], device=device(values))\n",
      "\u001b[36mFile \u001b[39m\u001b[32m~/AI/venv/lib/python3.12/site-packages/sklearn/utils/_encode.py:167\u001b[39m, in \u001b[36m_nandict.__missing__\u001b[39m\u001b[34m(self, key)\u001b[39m\n\u001b[32m    166\u001b[39m     \u001b[38;5;28;01mreturn\u001b[39;00m \u001b[38;5;28mself\u001b[39m.nan_value\n\u001b[32m--> \u001b[39m\u001b[32m167\u001b[39m \u001b[38;5;28;01mraise\u001b[39;00m \u001b[38;5;167;01mKeyError\u001b[39;00m(key)\n",
      "\u001b[31mKeyError\u001b[39m: 'Unhealthy'",
      "\nDuring handling of the above exception, another exception occurred:\n",
      "\u001b[31mValueError\u001b[39m                                Traceback (most recent call last)",
      "\u001b[36mCell\u001b[39m\u001b[36m \u001b[39m\u001b[32mIn[26]\u001b[39m\u001b[32m, line 5\u001b[39m\n\u001b[32m      3\u001b[39m label = LabelEncoder()\n\u001b[32m      4\u001b[39m df_train[column] = label.fit_transform(df_train[column])\n\u001b[32m----> \u001b[39m\u001b[32m5\u001b[39m df_test[column] = \u001b[43mlabel\u001b[49m\u001b[43m.\u001b[49m\u001b[43mtransform\u001b[49m\u001b[43m(\u001b[49m\u001b[43mdf_test\u001b[49m\u001b[43m[\u001b[49m\u001b[43mcolumn\u001b[49m\u001b[43m]\u001b[49m\u001b[43m)\u001b[49m\n",
      "\u001b[36mFile \u001b[39m\u001b[32m~/AI/venv/lib/python3.12/site-packages/sklearn/preprocessing/_label.py:134\u001b[39m, in \u001b[36mLabelEncoder.transform\u001b[39m\u001b[34m(self, y)\u001b[39m\n\u001b[32m    131\u001b[39m \u001b[38;5;28;01mif\u001b[39;00m _num_samples(y) == \u001b[32m0\u001b[39m:\n\u001b[32m    132\u001b[39m     \u001b[38;5;28;01mreturn\u001b[39;00m xp.asarray([])\n\u001b[32m--> \u001b[39m\u001b[32m134\u001b[39m \u001b[38;5;28;01mreturn\u001b[39;00m \u001b[43m_encode\u001b[49m\u001b[43m(\u001b[49m\u001b[43my\u001b[49m\u001b[43m,\u001b[49m\u001b[43m \u001b[49m\u001b[43muniques\u001b[49m\u001b[43m=\u001b[49m\u001b[38;5;28;43mself\u001b[39;49m\u001b[43m.\u001b[49m\u001b[43mclasses_\u001b[49m\u001b[43m)\u001b[49m\n",
      "\u001b[36mFile \u001b[39m\u001b[32m~/AI/venv/lib/python3.12/site-packages/sklearn/utils/_encode.py:237\u001b[39m, in \u001b[36m_encode\u001b[39m\u001b[34m(values, uniques, check_unknown)\u001b[39m\n\u001b[32m    235\u001b[39m         \u001b[38;5;28;01mreturn\u001b[39;00m _map_to_integer(values, uniques)\n\u001b[32m    236\u001b[39m     \u001b[38;5;28;01mexcept\u001b[39;00m \u001b[38;5;167;01mKeyError\u001b[39;00m \u001b[38;5;28;01mas\u001b[39;00m e:\n\u001b[32m--> \u001b[39m\u001b[32m237\u001b[39m         \u001b[38;5;28;01mraise\u001b[39;00m \u001b[38;5;167;01mValueError\u001b[39;00m(\u001b[33mf\u001b[39m\u001b[33m\"\u001b[39m\u001b[33my contains previously unseen labels: \u001b[39m\u001b[38;5;132;01m{\u001b[39;00me\u001b[38;5;132;01m}\u001b[39;00m\u001b[33m\"\u001b[39m)\n\u001b[32m    238\u001b[39m \u001b[38;5;28;01melse\u001b[39;00m:\n\u001b[32m    239\u001b[39m     \u001b[38;5;28;01mif\u001b[39;00m check_unknown:\n",
      "\u001b[31mValueError\u001b[39m: y contains previously unseen labels: 'Unhealthy'"
     ]
    }
   ],
   "source": [
    "for column in df_test.columns:\n",
    "    if df_train[column].dtype == object:\n",
    "        label = LabelEncoder()\n",
    "        df_train[column] = label.fit_transform(df_train[column])\n",
    "        df_test[column] = label.transform(df_test[column])"
   ]
  },
  {
   "cell_type": "code",
   "execution_count": null,
   "id": "c807cfd6-c0a4-436d-b66b-8bb12ee24d1d",
   "metadata": {},
   "outputs": [],
   "source": []
  },
  {
   "cell_type": "code",
   "execution_count": 30,
   "id": "a9c13d62-9b26-4869-9087-41b5cf111c14",
   "metadata": {},
   "outputs": [
    {
     "data": {
      "text/plain": [
       "<Axes: xlabel='Gender'>"
      ]
     },
     "execution_count": 30,
     "metadata": {},
     "output_type": "execute_result"
    },
    {
     "data": {
      "image/png": "[encoded data removed]",
      "text/plain": [
       "<Figure size 640x480 with 1 Axes>"
      ]
     },
     "metadata": {},
     "output_type": "display_data"
    }
   ],
   "source": [
    "sns.boxplot(x=df_train['Gender'])"
   ]
  },
  {
   "cell_type": "code",
   "execution_count": null,
   "id": "17a9bfaf-dfe1-4cf6-8a47-e80a733fc865",
   "metadata": {},
   "outputs": [],
   "source": [
    "from sklearn.svm import SVC\n",
    "from sklearn.preprocessing import StandardScaler\n",
    "from sklearn.pipeline import Pipeline\n",
    "from sklearn.model_selection import train_test_split, GridSearchCV\n",
    "from sklearn.metrics import classification_report, ConfusionMatrixDisplay, confusion_matrix"
   ]
  },
  {
   "cell_type": "code",
   "execution_count": 13,
   "id": "111bce2a-0380-4d09-9022-613a2c115f7a",
   "metadata": {},
   "outputs": [],
   "source": [
    "model = SVC()\n",
    "scaler = StandardScaler()"
   ]
  },
  {
   "cell_type": "code",
   "execution_count": 14,
   "id": "41a24e96-e49a-430e-8f41-6884753f8e5d",
   "metadata": {},
   "outputs": [],
   "source": [
    "params = {\n",
    "    'model__C' : [1, 5,10],\n",
    "    'model__kernel' : ['linear', 'poly', 'rbf', 'sigmoid' ],\n",
    "    'model__gamma' : ['scale', 'auto']\n",
    "}"
   ]
  },
  {
   "cell_type": "code",
   "execution_count": 15,
   "id": "d61806f3-8882-4df8-b0b9-a8a5561957dd",
   "metadata": {},
   "outputs": [
    {
     "name": "stdout",
     "output_type": "stream",
     "text": [
      "Gender\n",
      "1    77464\n",
      "0    63236\n",
      "Name: count, dtype: int64\n"
     ]
    }
   ],
   "source": [
    "print(df_train['Gender'].value_counts())"
   ]
  },
  {
   "cell_type": "code",
   "execution_count": 16,
   "id": "819b97b9-2e82-4379-925a-b175f453854b",
   "metadata": {},
   "outputs": [],
   "source": [
    "pipe = Pipeline([('scaler', scaler), ('model', model)])"
   ]
  },
  {
   "cell_type": "code",
   "execution_count": 17,
   "id": "3696c8f0-bb91-41a8-8893-35b870253777",
   "metadata": {},
   "outputs": [],
   "source": [
    "final_model = GridSearchCV(pipe, param_grid=params, verbose=2, cv=3, scoring='accuracy')"
   ]
  },
  {
   "cell_type": "code",
   "execution_count": 18,
   "id": "1d08ce10-0686-4e06-a6bd-3b75b80618e5",
   "metadata": {},
   "outputs": [],
   "source": [
    "X_train = df_train.drop([\"Depression\"], axis=1)\n",
    "X_test = df_test.copy()\n",
    "y_train = df_train['Depression']"
   ]
  },
  {
   "cell_type": "code",
   "execution_count": 19,
   "id": "cc9b936a-36e7-4700-9036-8b088103655b",
   "metadata": {},
   "outputs": [],
   "source": [
    "X_train, X_val, y_train, y_val = train_test_split(X_train, y_train, test_size=0.2, random_state=42)"
   ]
  },
  {
   "cell_type": "code",
   "execution_count": 20,
   "id": "68fafa0f-5623-4766-bf6c-229d7acfcdc0",
   "metadata": {},
   "outputs": [
    {
     "name": "stdout",
     "output_type": "stream",
     "text": [
      "Depression\n",
      "0    115133\n",
      "1     25567\n",
      "Name: count, dtype: int64\n"
     ]
    }
   ],
   "source": [
    "print(df_train['Depression'].value_counts())"
   ]
  },
  {
   "cell_type": "code",
   "execution_count": null,
   "id": "2f17721d-8806-473b-a59d-879dde901274",
   "metadata": {},
   "outputs": [
    {
     "name": "stdout",
     "output_type": "stream",
     "text": [
      "Fitting 3 folds for each of 24 candidates, totalling 72 fits\n"
     ]
    }
   ],
   "source": [
    "final_model.fit(X_train, y_train)"
   ]
  },
  {
   "cell_type": "code",
   "execution_count": null,
   "id": "5459b80d-bfff-4c01-83f3-c110546ba873",
   "metadata": {},
   "outputs": [],
   "source": [
    "final_model.best_params_"
   ]
  },
  {
   "cell_type": "code",
   "execution_count": null,
   "id": "fb2cb670-4276-4f8c-89e6-ac15c3a7cd34",
   "metadata": {},
   "outputs": [],
   "source": [
    "y_pred = final_model.predict(X_val)"
   ]
  },
  {
   "cell_type": "code",
   "execution_count": null,
   "id": "390884c3-27b9-4912-ab4b-14155c024e1d",
   "metadata": {},
   "outputs": [],
   "source": [
    "print(classification_report(y_pred,y_val))"
   ]
  },
  {
   "cell_type": "code",
   "execution_count": null,
   "id": "cedeef28-5a41-45c3-ae6c-6cf2a897e678",
   "metadata": {},
   "outputs": [],
   "source": [
    "final_y = final_model.predict(X_test)"
   ]
  },
  {
   "cell_type": "code",
   "execution_count": null,
   "id": "2d6adffc-86cf-4be6-92f9-633ac8581c0a",
   "metadata": {},
   "outputs": [],
   "source": [
    "df_sub = pd.read_csv('sample_submission.csv')"
   ]
  },
  {
   "cell_type": "code",
   "execution_count": null,
   "id": "0d258828-b66e-4f6d-9f59-eac4c86581af",
   "metadata": {},
   "outputs": [],
   "source": [
    "df_sub['Depression'] = final_y"
   ]
  },
  {
   "cell_type": "code",
   "execution_count": null,
   "id": "21fbe585-17bb-4449-9c97-ec892c198230",
   "metadata": {},
   "outputs": [],
   "source": [
    "df_sub.to_csv('sub.csv', index=False, index_label=False)"
   ]
  },
  {
   "cell_type": "code",
   "execution_count": null,
   "id": "58b06bc6-8dda-49db-aaab-48c72c61c184",
   "metadata": {},
   "outputs": [],
   "source": []
  },
  {
   "cell_type": "code",
   "execution_count": null,
   "id": "f62e680b-9688-48d0-9856-51bda692f46c",
   "metadata": {},
   "outputs": [],
   "source": []
  },
  {
   "cell_type": "code",
   "execution_count": null,
   "id": "b96a0abc-94be-4b44-b18a-461234deacdb",
   "metadata": {},
   "outputs": [],
   "source": []
  },
  {
   "cell_type": "code",
   "execution_count": null,
   "id": "351de651-a41d-48dc-af74-3ae7e9f63beb",
   "metadata": {},
   "outputs": [],
   "source": []
  },
  {
   "cell_type": "code",
   "execution_count": null,
   "id": "6ea4a908-8ce2-4387-947d-9fbe95d21528",
   "metadata": {},
   "outputs": [],
   "source": []
  }
 ],
 "metadata": {
  "kernelspec": {
   "display_name": "Python 3 (ipykernel)",
   "language": "python",
   "name": "python3"
  },
  "language_info": {
   "codemirror_mode": {
    "name": "ipython",
    "version": 3
   },
   "file_extension": ".py",
   "mimetype": "text/x-python",
   "name": "python",
   "nbconvert_exporter": "python",
   "pygments_lexer": "ipython3",
   "version": "3.12.3"
  }
 },
 "nbformat": 4,
 "nbformat_minor": 5
}
